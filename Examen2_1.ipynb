{
  "nbformat": 4,
  "nbformat_minor": 0,
  "metadata": {
    "colab": {
      "name": "Examen2-1.ipynb",
      "provenance": [],
      "authorship_tag": "ABX9TyMvgAYwsJqLpEwn9hRB43jQ",
      "include_colab_link": true
    },
    "kernelspec": {
      "name": "python3",
      "display_name": "Python 3"
    },
    "language_info": {
      "name": "python"
    }
  },
  "cells": [
    {
      "cell_type": "markdown",
      "metadata": {
        "id": "view-in-github",
        "colab_type": "text"
      },
      "source": [
        "<a href=\"https://colab.research.google.com/github/freddyambia/Data-Science-I/blob/master/Examen2_1.ipynb\" target=\"_parent\"><img src=\"https://colab.research.google.com/assets/colab-badge.svg\" alt=\"Open In Colab\"/></a>"
      ]
    },
    {
      "cell_type": "code",
      "execution_count": 1,
      "metadata": {
        "id": "AZu1ZaswHvcg"
      },
      "outputs": [],
      "source": [
        "##Cálculo de Sueldo de Trabajadores"
      ]
    },
    {
      "cell_type": "code",
      "source": [
        "#Cálculo de Sueldo de Trabajadores\n",
        "#(No se cuenta con un Sueldo definido en la pregunta, utilizaremos 1000 para efectos de que los cálculos sean los correctos)\n",
        "Sueldo_Fijo=int(1000)\n",
        "Horas_Max=int(48)\n",
        "\n",
        "#Trabajador 1 \n",
        "##Días trabajados\n",
        "dias1=input(\"¿Cuántos días trabajó el trabajador 1 esta semana? \" )\n",
        "##Horas trabajadas por día \n",
        "print(\"Ingrese las horas que trabajó el trabajador 1 durante los días\") \n",
        "print(\"trabajados, si es que no realizó horas, colocar\")\n",
        "horas11=int(input(\"¿Cuántas horas trabajó el trabajador el día 1?\"))\n",
        "horas12=int(input(\"¿Cuántas horas trabajó el trabajador el día 2?\"))\n",
        "horas13=int(input(\"¿Cuántas horas trabajó el trabajador el día 3?\"))\n",
        "horas14=int(input(\"¿Cuántas horas trabajó el trabajador el día 4?\"))\n",
        "horas15=int(input(\"¿Cuántas horas trabajó el trabajador el día 5?\"))\n",
        "horas16=int(input(\"¿Cuántas horas trabajó el trabajador el día 6?\"))\n",
        "total_horas_trabajador1=(horas11+horas12+horas13+horas14+horas15+horas16)\n",
        "Sueldo1=(Sueldo_Fijo*(total_horas_trabajador1/Horas_Max))\n",
        "print(\"El trabajador 1 trabajó durante \",dias1, \"días\")\n",
        "print(\"Y su sueldo es de \",Sueldo1)\n",
        "\n",
        "#Trabajador 2 \n",
        "##Días trabajados\n",
        "dias2=input(\"¿Cuántos días trabajó el trabajador 2 esta semana? \" )\n",
        "##Horas trabajadas por día \n",
        "print(\"Ingrese las horas que trabajó el trabajador 2 durante los días\") \n",
        "print(\"trabajados, si es que no realizó horas, colocar\")\n",
        "horas21=int(input(\"¿Cuántas horas trabajó el trabajador el día 1?\"))\n",
        "horas22=int(input(\"¿Cuántas horas trabajó el trabajador el día 2?\"))\n",
        "horas23=int(input(\"¿Cuántas horas trabajó el trabajador el día 3?\"))\n",
        "horas24=int(input(\"¿Cuántas horas trabajó el trabajador el día 4?\"))\n",
        "horas25=int(input(\"¿Cuántas horas trabajó el trabajador el día 5?\"))\n",
        "horas26=int(input(\"¿Cuántas horas trabajó el trabajador el día 6?\"))\n",
        "total_horas_trabajador2=(horas21+horas22+horas23+horas24+horas25+horas26)\n",
        "Sueldo2=(Sueldo_Fijo*(total_horas_trabajador2/Horas_Max))\n",
        "print(\"El trabajador 2 trabajó durante \",dias2, \"días\")\n",
        "print(\"Y su sueldo es de \",Sueldo2)\n",
        "\n",
        "#Trabajador 3 \n",
        "##Días trabajados\n",
        "dias3=input(\"¿Cuántos días trabajó el trabajador 3 esta semana? \" )\n",
        "##Horas trabajadas por día \n",
        "print(\"Ingrese las horas que trabajó el trabajador 3 durante los días\") \n",
        "print(\"trabajados, si es que no realizó horas, colocar\")\n",
        "horas31=int(input(\"¿Cuántas horas trabajó el trabajador el día 1?\"))\n",
        "horas32=int(input(\"¿Cuántas horas trabajó el trabajador el día 2?\"))\n",
        "horas33=int(input(\"¿Cuántas horas trabajó el trabajador el día 3?\"))\n",
        "horas34=int(input(\"¿Cuántas horas trabajó el trabajador el día 4?\"))\n",
        "horas35=int(input(\"¿Cuántas horas trabajó el trabajador el día 5?\"))\n",
        "horas36=int(input(\"¿Cuántas horas trabajó el trabajador el día 6?\"))\n",
        "total_horas_trabajador3=(horas31+horas32+horas33+horas34+horas35+horas36)\n",
        "Sueldo3=(Sueldo_Fijo*(total_horas_trabajador3/Horas_Max))\n",
        "print(\"El trabajador 3 trabajó durante \",dias3, \"días\")\n",
        "print(\"Y su sueldo es de \",Sueldo3)\n",
        "\n",
        "#Trabajador 4 \n",
        "##Días trabajados\n",
        "dias4=input(\"¿Cuántos días trabajó el trabajador 4 esta semana? \" )\n",
        "##Horas trabajadas por día \n",
        "print(\"Ingrese las horas que trabajó el trabajador 4 durante los días\") \n",
        "print(\"trabajados, si es que no realizó horas, colocar\")\n",
        "horas41=int(input(\"¿Cuántas horas trabajó el trabajador el día 1?\"))\n",
        "horas42=int(input(\"¿Cuántas horas trabajó el trabajador el día 2?\"))\n",
        "horas43=int(input(\"¿Cuántas horas trabajó el trabajador el día 3?\"))\n",
        "horas44=int(input(\"¿Cuántas horas trabajó el trabajador el día 4?\"))\n",
        "horas45=int(input(\"¿Cuántas horas trabajó el trabajador el día 5?\"))\n",
        "horas46=int(input(\"¿Cuántas horas trabajó el trabajador el día 6?\"))\n",
        "total_horas_trabajador4=(horas41+horas42+horas43+horas44+horas45+horas46)\n",
        "Sueldo4=(Sueldo_Fijo*(total_horas_trabajador4/Horas_Max))\n",
        "print(\"El trabajador 4 trabajó durante \",dias4, \"días\")\n",
        "print(\"Y su sueldo es de \",Sueldo4)\n",
        "\n",
        "#Trabajador 5\n",
        "##Días trabajados\n",
        "dias5=input(\"¿Cuántos días trabajó el trabajador 5 esta semana? \" )\n",
        "##Horas trabajadas por día \n",
        "print(\"Ingrese las horas que trabajó el trabajador 5 durante los días\") \n",
        "print(\"trabajados, si es que no realizó horas, colocar\")\n",
        "horas51=int(input(\"¿Cuántas horas trabajó el trabajador el día 1?\"))\n",
        "horas52=int(input(\"¿Cuántas horas trabajó el trabajador el día 2?\"))\n",
        "horas53=int(input(\"¿Cuántas horas trabajó el trabajador el día 3?\"))\n",
        "horas54=int(input(\"¿Cuántas horas trabajó el trabajador el día 4?\"))\n",
        "horas55=int(input(\"¿Cuántas horas trabajó el trabajador el día 5?\"))\n",
        "horas56=int(input(\"¿Cuántas horas trabajó el trabajador el día 6?\"))\n",
        "total_horas_trabajador5=(horas51+horas52+horas53+horas54+horas55+horas56)\n",
        "Sueldo5=(Sueldo_Fijo*(total_horas_trabajador5/Horas_Max))\n",
        "print(\"El trabajador 5 trabajó durante \",dias5, \"días\")\n",
        "print(\"Y su sueldo es de \",Sueldo5)\n",
        "\n",
        "total_Sueldos=Sueldo1+Sueldo2+Sueldo3+Sueldo4+Sueldo5\n",
        "print(\"El total de pago es de\", total_Sueldos)"
      ],
      "metadata": {
        "colab": {
          "base_uri": "https://localhost:8080/"
        },
        "id": "a1CCkbB7Izae",
        "outputId": "27cc0d57-d7f4-4071-834e-7ca0f6249987"
      },
      "execution_count": 19,
      "outputs": [
        {
          "output_type": "stream",
          "name": "stdout",
          "text": [
            "¿Cuántos días trabajó el trabajador 1 esta semana? 5\n",
            "Ingrese las horas que trabajó el trabajador 1 durante los días\n",
            "trabajados, si es que no realizó horas, colocar\n",
            "¿Cuántas horas trabajó el trabajador el día 1?8\n",
            "¿Cuántas horas trabajó el trabajador el día 2?8\n",
            "¿Cuántas horas trabajó el trabajador el día 3?8\n",
            "¿Cuántas horas trabajó el trabajador el día 4?8\n",
            "¿Cuántas horas trabajó el trabajador el día 5?8\n",
            "¿Cuántas horas trabajó el trabajador el día 6?8\n",
            "El trabajador 1 trabajó durante  5 días\n",
            "Y su sueldo es de  1000.0\n",
            "¿Cuántos días trabajó el trabajador 2 esta semana? 6\n",
            "Ingrese las horas que trabajó el trabajador 2 durante los días\n",
            "trabajados, si es que no realizó horas, colocar\n",
            "¿Cuántas horas trabajó el trabajador el día 1?8\n",
            "¿Cuántas horas trabajó el trabajador el día 2?8\n",
            "¿Cuántas horas trabajó el trabajador el día 3?8\n",
            "¿Cuántas horas trabajó el trabajador el día 4?8\n",
            "¿Cuántas horas trabajó el trabajador el día 5?8\n",
            "¿Cuántas horas trabajó el trabajador el día 6?8\n",
            "El trabajador 2 trabajó durante  6 días\n",
            "Y su sueldo es de  1000.0\n",
            "¿Cuántos días trabajó el trabajador 3 esta semana? 5\n",
            "Ingrese las horas que trabajó el trabajador 3 durante los días\n",
            "trabajados, si es que no realizó horas, colocar\n",
            "¿Cuántas horas trabajó el trabajador el día 1?8\n",
            "¿Cuántas horas trabajó el trabajador el día 2?8\n",
            "¿Cuántas horas trabajó el trabajador el día 3?8\n",
            "¿Cuántas horas trabajó el trabajador el día 4?8\n",
            "¿Cuántas horas trabajó el trabajador el día 5?8\n",
            "¿Cuántas horas trabajó el trabajador el día 6?0\n",
            "El trabajador 3 trabajó durante  5 días\n",
            "Y su sueldo es de  833.3333333333334\n",
            "¿Cuántos días trabajó el trabajador 4 esta semana? 6\n",
            "Ingrese las horas que trabajó el trabajador 4 durante los días\n",
            "trabajados, si es que no realizó horas, colocar\n",
            "¿Cuántas horas trabajó el trabajador el día 1?8\n",
            "¿Cuántas horas trabajó el trabajador el día 2?8\n",
            "¿Cuántas horas trabajó el trabajador el día 3?8\n",
            "¿Cuántas horas trabajó el trabajador el día 4?8\n",
            "¿Cuántas horas trabajó el trabajador el día 5?8\n",
            "¿Cuántas horas trabajó el trabajador el día 6?8\n",
            "El trabajador 4 trabajó durante  6 días\n",
            "Y su sueldo es de  1000.0\n",
            "¿Cuántos días trabajó el trabajador 5 esta semana? 5\n",
            "Ingrese las horas que trabajó el trabajador 5 durante los días\n",
            "trabajados, si es que no realizó horas, colocar\n",
            "¿Cuántas horas trabajó el trabajador el día 1?9\n",
            "¿Cuántas horas trabajó el trabajador el día 2?9\n",
            "¿Cuántas horas trabajó el trabajador el día 3?9\n",
            "¿Cuántas horas trabajó el trabajador el día 4?9\n",
            "¿Cuántas horas trabajó el trabajador el día 5?9\n",
            "¿Cuántas horas trabajó el trabajador el día 6?0\n",
            "El trabajador 5 trabajó durante  5 días\n",
            "Y su sueldo es de  937.5\n",
            "El total de pago es de 4770.833333333334\n"
          ]
        }
      ]
    },
    {
      "cell_type": "code",
      "source": [
        "\n",
        "\n"
      ],
      "metadata": {
        "id": "Ithavaq8JDLO"
      },
      "execution_count": null,
      "outputs": []
    }
  ]
}