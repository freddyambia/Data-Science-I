{
  "nbformat": 4,
  "nbformat_minor": 0,
  "metadata": {
    "colab": {
      "name": "Semana 3.ipynb",
      "provenance": [],
      "authorship_tag": "ABX9TyMyPlL5zrX6oqMNBlQcjftQ",
      "include_colab_link": true
    },
    "kernelspec": {
      "name": "python3",
      "display_name": "Python 3"
    },
    "language_info": {
      "name": "python"
    }
  },
  "cells": [
    {
      "cell_type": "markdown",
      "metadata": {
        "id": "view-in-github",
        "colab_type": "text"
      },
      "source": [
        "<a href=\"https://colab.research.google.com/github/freddyambia/Data-Science-I/blob/master/Semana_3.ipynb\" target=\"_parent\"><img src=\"https://colab.research.google.com/assets/colab-badge.svg\" alt=\"Open In Colab\"/></a>"
      ]
    },
    {
      "cell_type": "code",
      "execution_count": 1,
      "metadata": {
        "colab": {
          "base_uri": "https://localhost:8080/"
        },
        "id": "RfYFD4Dt-ky6",
        "outputId": "301c12d0-8e57-4ba5-bdca-0aaa7beb1f14"
      },
      "outputs": [
        {
          "output_type": "stream",
          "name": "stdout",
          "text": [
            "Número total de tablas: 3\n",
            "                                                   0                1                                               2                                               3                                                4                                                 5                                               6  \\\n",
            "0                                    M1ANot assigned  M2ANot assigned                        M3ANorth York(Parkwoods)                 M4ANorth York(Victoria Village)  M5ADowntown Toronto(Regent Park / Harbourfront)  M6ANorth York(Lawrence Manor / Lawrence Heights)  M7AQueen's Park(Ontario Provincial Government)   \n",
            "1                    M1BScarborough(Malvern / Rouge)  M2BNot assigned                   M3BNorth York(Don Mills)North  M4BEast York(Parkview Hill / Woodbine Gardens)    M5BDowntown Toronto(Garden District, Ryerson)                          M6BNorth York(Glencairn)                                 M7BNot assigned   \n",
            "2  M1CScarborough(Rouge Hill / Port Union / Highl...  M2CNot assigned  M3CNorth York(Don Mills)South(Flemingdon Park)                  M4CEast York(Woodbine Heights)              M5CDowntown Toronto(St. James Town)                       M6CYork(Humewood-Cedarvale)                                 M7CNot assigned   \n",
            "3  M1EScarborough(Guildwood / Morningside / West ...  M2ENot assigned                                 M3ENot assigned                    M4EEast Toronto(The Beaches)                 M5EDowntown Toronto(Berczy Park)                      M6EYork(Caledonia-Fairbanks)                                 M7ENot assigned   \n",
            "4                             M1GScarborough(Woburn)  M2GNot assigned                                 M3GNot assigned                           M4GEast York(Leaside)          M5GDowntown Toronto(Central Bay Street)                     M6GDowntown Toronto(Christie)                                 M7GNot assigned   \n",
            "\n",
            "                 7                                                  8  \n",
            "0  M8ANot assigned                     M9AEtobicoke(Islington Avenue)  \n",
            "1  M8BNot assigned  M9BEtobicoke(West Deane Park / Princess Garden...  \n",
            "2  M8CNot assigned  M9CEtobicoke(Eringate / Bloordale Gardens / Ol...  \n",
            "3  M8ENot assigned                                    M9ENot assigned  \n",
            "4  M8GNot assigned                                    M9GNot assigned  \n",
            "  .mw-parser-output .navbar{display:inline;font-size:88%;font-weight:normal}.mw-parser-output .navbar-collapse{float:left;text-align:left}.mw-parser-output .navbar-boxtext{word-spacing:0}.mw-parser-output .navbar ul{display:inline-block;white-space:nowrap;line-height:inherit}.mw-parser-output .navbar-brackets::before{margin-right:-0.125em;content:\"[ \"}.mw-parser-output .navbar-brackets::after{margin-left:-0.125em;content:\" ]\"}.mw-parser-output .navbar li{word-spacing:-0.125em}.mw-parser-output .navbar a>span,.mw-parser-output .navbar a>abbr{text-decoration:inherit}.mw-parser-output .navbar-mini abbr{font-variant:small-caps;border-bottom:none;text-decoration:none;cursor:inherit}.mw-parser-output .navbar-ct-full{font-size:114%;margin:0 7em}.mw-parser-output .navbar-ct-mini{font-size:114%;margin:0 4em}vteCanadian postal codes  \\\n",
            "0                                                NaN                                                                                                                                                                                                                                                                                                                                                                                                                                                                                                                                                                                                                                                                                                                                                                                                                 \n",
            "1                                                 NL                                                                                                                                                                                                                                                                                                                                                                                                                                                                                                                                                                                                                                                                                                                                                                                                                 \n",
            "2                                                  A                                                                                                                                                                                                                                                                                                                                                                                                                                                                                                                                                                                                                                                                                                                                                                                                                 \n",
            "\n",
            "  .mw-parser-output .navbar{display:inline;font-size:88%;font-weight:normal}.mw-parser-output .navbar-collapse{float:left;text-align:left}.mw-parser-output .navbar-boxtext{word-spacing:0}.mw-parser-output .navbar ul{display:inline-block;white-space:nowrap;line-height:inherit}.mw-parser-output .navbar-brackets::before{margin-right:-0.125em;content:\"[ \"}.mw-parser-output .navbar-brackets::after{margin-left:-0.125em;content:\" ]\"}.mw-parser-output .navbar li{word-spacing:-0.125em}.mw-parser-output .navbar a>span,.mw-parser-output .navbar a>abbr{text-decoration:inherit}.mw-parser-output .navbar-mini abbr{font-variant:small-caps;border-bottom:none;text-decoration:none;cursor:inherit}.mw-parser-output .navbar-ct-full{font-size:114%;margin:0 7em}.mw-parser-output .navbar-ct-mini{font-size:114%;margin:0 4em}vteCanadian postal codes.1  \\\n",
            "0  NL NS PE NB QC ON MB SK AB BC NU/NT YT A B C E...                                                                                                                                                                                                                                                                                                                                                                                                                                                                                                                                                                                                                                                                                                                                                                                                                   \n",
            "1                                                 NS                                                                                                                                                                                                                                                                                                                                                                                                                                                                                                                                                                                                                                                                                                                                                                                                                   \n",
            "2                                                  B                                                                                                                                                                                                                                                                                                                                                                                                                                                                                                                                                                                                                                                                                                                                                                                                                   \n",
            "\n",
            "  .mw-parser-output .navbar{display:inline;font-size:88%;font-weight:normal}.mw-parser-output .navbar-collapse{float:left;text-align:left}.mw-parser-output .navbar-boxtext{word-spacing:0}.mw-parser-output .navbar ul{display:inline-block;white-space:nowrap;line-height:inherit}.mw-parser-output .navbar-brackets::before{margin-right:-0.125em;content:\"[ \"}.mw-parser-output .navbar-brackets::after{margin-left:-0.125em;content:\" ]\"}.mw-parser-output .navbar li{word-spacing:-0.125em}.mw-parser-output .navbar a>span,.mw-parser-output .navbar a>abbr{text-decoration:inherit}.mw-parser-output .navbar-mini abbr{font-variant:small-caps;border-bottom:none;text-decoration:none;cursor:inherit}.mw-parser-output .navbar-ct-full{font-size:114%;margin:0 7em}.mw-parser-output .navbar-ct-mini{font-size:114%;margin:0 4em}vteCanadian postal codes.2  \\\n",
            "0  NL NS PE NB QC ON MB SK AB BC NU/NT YT A B C E...                                                                                                                                                                                                                                                                                                                                                                                                                                                                                                                                                                                                                                                                                                                                                                                                                   \n",
            "1                                                 PE                                                                                                                                                                                                                                                                                                                                                                                                                                                                                                                                                                                                                                                                                                                                                                                                                   \n",
            "2                                                  C                                                                                                                                                                                                                                                                                                                                                                                                                                                                                                                                                                                                                                                                                                                                                                                                                   \n",
            "\n",
            "  .mw-parser-output .navbar{display:inline;font-size:88%;font-weight:normal}.mw-parser-output .navbar-collapse{float:left;text-align:left}.mw-parser-output .navbar-boxtext{word-spacing:0}.mw-parser-output .navbar ul{display:inline-block;white-space:nowrap;line-height:inherit}.mw-parser-output .navbar-brackets::before{margin-right:-0.125em;content:\"[ \"}.mw-parser-output .navbar-brackets::after{margin-left:-0.125em;content:\" ]\"}.mw-parser-output .navbar li{word-spacing:-0.125em}.mw-parser-output .navbar a>span,.mw-parser-output .navbar a>abbr{text-decoration:inherit}.mw-parser-output .navbar-mini abbr{font-variant:small-caps;border-bottom:none;text-decoration:none;cursor:inherit}.mw-parser-output .navbar-ct-full{font-size:114%;margin:0 7em}.mw-parser-output .navbar-ct-mini{font-size:114%;margin:0 4em}vteCanadian postal codes.3  \\\n",
            "0                                                NaN                                                                                                                                                                                                                                                                                                                                                                                                                                                                                                                                                                                                                                                                                                                                                                                                                   \n",
            "1                                                 NB                                                                                                                                                                                                                                                                                                                                                                                                                                                                                                                                                                                                                                                                                                                                                                                                                   \n",
            "2                                                  E                                                                                                                                                                                                                                                                                                                                                                                                                                                                                                                                                                                                                                                                                                                                                                                                                   \n",
            "\n",
            "  Unnamed: 4 Unnamed: 5 Unnamed: 6 Unnamed: 7 Unnamed: 8 Unnamed: 9 Unnamed: 10 Unnamed: 11 Unnamed: 12 Unnamed: 13 Unnamed: 14 Unnamed: 15 Unnamed: 16 Unnamed: 17  \n",
            "0        NaN        NaN        NaN        NaN        NaN        NaN         NaN         NaN         NaN         NaN         NaN         NaN         NaN         NaN  \n",
            "1         QC         QC         QC         ON         ON         ON          ON          ON          MB          SK          AB          BC       NU/NT          YT  \n",
            "2          G          H          J          K          L          M           N           P           R           S           T           V           X           Y  \n",
            "   0   1   2   3   4   5   6   7   8   9   10  11  12  13  14  15     16  17\n",
            "0  NL  NS  PE  NB  QC  QC  QC  ON  ON  ON  ON  ON  MB  SK  AB  BC  NU/NT  YT\n",
            "1   A   B   C   E   G   H   J   K   L   M   N   P   R   S   T   V      X   Y\n"
          ]
        }
      ],
      "source": [
        "import pandas as pd\n",
        "import re\n",
        "desired_width = 320\n",
        "pd.set_option('display.width', desired_width)\n",
        "\n",
        "\n",
        "# Leer las tablas en pandas\n",
        "Canada_List = pd.read_html('https://en.wikipedia.org/wiki/List_of_postal_codes_of_Canada:_M')\n",
        "\n",
        "# Imprimir el número total de tablas\n",
        "print(f'Número total de tablas: {len(Canada_List)}')\n",
        "\n",
        "# Imprimir las primeras filas de todas las tablas en la página\n",
        "for i in range(len(Canada_List)):\n",
        "  print(Canada_List[i].head())"
      ]
    },
    {
      "cell_type": "code",
      "source": [
        "\n",
        "# Crear el dataframe con la tabla seleccionada\n",
        "df = Canada_List[2]\n",
        "print(df.head())\n",
        "\n",
        "# Más información sobre el dataframe\n",
        "print(df.info())"
      ],
      "metadata": {
        "colab": {
          "base_uri": "https://localhost:8080/"
        },
        "id": "fAb1qbpK_aXZ",
        "outputId": "f734ac72-2219-4535-babd-3641acf47f85"
      },
      "execution_count": 5,
      "outputs": [
        {
          "output_type": "stream",
          "name": "stdout",
          "text": [
            "   0   1   2   3   4   5   6   7   8   9   10  11  12  13  14  15     16  17\n",
            "0  NL  NS  PE  NB  QC  QC  QC  ON  ON  ON  ON  ON  MB  SK  AB  BC  NU/NT  YT\n",
            "1   A   B   C   E   G   H   J   K   L   M   N   P   R   S   T   V      X   Y\n",
            "<class 'pandas.core.frame.DataFrame'>\n",
            "RangeIndex: 2 entries, 0 to 1\n",
            "Data columns (total 18 columns):\n",
            " #   Column  Non-Null Count  Dtype \n",
            "---  ------  --------------  ----- \n",
            " 0   0       2 non-null      object\n",
            " 1   1       2 non-null      object\n",
            " 2   2       2 non-null      object\n",
            " 3   3       2 non-null      object\n",
            " 4   4       2 non-null      object\n",
            " 5   5       2 non-null      object\n",
            " 6   6       2 non-null      object\n",
            " 7   7       2 non-null      object\n",
            " 8   8       2 non-null      object\n",
            " 9   9       2 non-null      object\n",
            " 10  10      2 non-null      object\n",
            " 11  11      2 non-null      object\n",
            " 12  12      2 non-null      object\n",
            " 13  13      2 non-null      object\n",
            " 14  14      2 non-null      object\n",
            " 15  15      2 non-null      object\n",
            " 16  16      2 non-null      object\n",
            " 17  17      2 non-null      object\n",
            "dtypes: object(18)\n",
            "memory usage: 416.0+ bytes\n",
            "None\n"
          ]
        }
      ]
    }
  ]
}