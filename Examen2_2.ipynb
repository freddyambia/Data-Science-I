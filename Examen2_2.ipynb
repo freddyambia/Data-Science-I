{
  "nbformat": 4,
  "nbformat_minor": 0,
  "metadata": {
    "colab": {
      "name": "Examen2-2.ipynb",
      "provenance": [],
      "authorship_tag": "ABX9TyMJikje6BErG/g7mMJ3agmo",
      "include_colab_link": true
    },
    "kernelspec": {
      "name": "python3",
      "display_name": "Python 3"
    },
    "language_info": {
      "name": "python"
    }
  },
  "cells": [
    {
      "cell_type": "markdown",
      "metadata": {
        "id": "view-in-github",
        "colab_type": "text"
      },
      "source": [
        "<a href=\"https://colab.research.google.com/github/freddyambia/Data-Science-I/blob/master/Examen2_2.ipynb\" target=\"_parent\"><img src=\"https://colab.research.google.com/assets/colab-badge.svg\" alt=\"Open In Colab\"/></a>"
      ]
    },
    {
      "cell_type": "code",
      "execution_count": 9,
      "metadata": {
        "colab": {
          "base_uri": "https://localhost:8080/"
        },
        "id": "D02njfcsP8g2",
        "outputId": "2e3d8cc8-75c6-478d-cca4-3aa429576952"
      },
      "outputs": [
        {
          "output_type": "stream",
          "name": "stdout",
          "text": [
            "Ingrese la Renta anual a declarar:2555\n",
            "El impuesto a la Renta es de  332.15\n"
          ]
        }
      ],
      "source": [
        "##Cálculo de Bonificación\n",
        "Renta=float(input(\"Ingrese la Renta anual a declarar:\"))\n",
        "min=1\n",
        "a=True\n",
        "while a:\n",
        "  if Renta>min:\n",
        "    if Renta in range(0,1001,1):\n",
        "      nivel=7\n",
        "      a=False\n",
        "    elif Renta in range(1000,2001,1):\n",
        "      nivel=11\n",
        "      a=False\n",
        "    elif Renta in range(2000,3001,1):\n",
        "      nivel=13\n",
        "      a=False     \n",
        "    elif Renta in range(3000,4001,1):\n",
        "      nivel=16\n",
        "      a=False\n",
        "    elif Renta>4000:\n",
        "      nivel=19\n",
        "      a=False\n",
        "    else:\n",
        "      print(\"usted ha ingresado una Renta inválida\")\n",
        "      Renta=float(input(\"ingrese una Renta válida:\"))\n",
        "  else:\n",
        "    print(\"usted ha ingresado una Renta inválida\")\n",
        "    Renta=float(input(\"ingrese una Renta válida::\"))\n",
        "Impuesto=round((nivel/100)*Renta,2)\n",
        "print(\"El impuesto a la Renta es de \",Impuesto)"
      ]
    },
    {
      "cell_type": "code",
      "source": [
        ""
      ],
      "metadata": {
        "id": "x7QQ00ahRPkT"
      },
      "execution_count": null,
      "outputs": []
    }
  ]
}